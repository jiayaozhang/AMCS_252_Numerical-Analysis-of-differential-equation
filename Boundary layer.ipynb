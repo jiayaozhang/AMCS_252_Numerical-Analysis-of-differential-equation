{
 "cells": [
  {
   "cell_type": "code",
   "execution_count": 1,
   "metadata": {},
   "outputs": [],
   "source": [
    "%matplotlib inline\n",
    "import numpy as np\n",
    "import matplotlib.pyplot as plt"
   ]
  },
  {
   "cell_type": "code",
   "execution_count": 2,
   "metadata": {},
   "outputs": [],
   "source": [
    "def D2(m):\n",
    "    em = np.ones(m)\n",
    "    e1=np.ones(m-1)\n",
    "    h = 1./(m+1)\n",
    "    return (np.diag(-2*em,0)+np.diag(e1,-1)+np.diag(e1,1))/h**2"
   ]
  },
  {
   "cell_type": "code",
   "execution_count": 3,
   "metadata": {},
   "outputs": [],
   "source": [
    "def D1(m):\n",
    "    e1 = np.ones(m-1)\n",
    "    h = 1./(m+1)\n",
    "    return (np.diag(e1,1)-np.diag(e1,-1))/(2*h)"
   ]
  },
  {
   "cell_type": "code",
   "execution_count": 4,
   "metadata": {},
   "outputs": [
    {
     "data": {
      "text/plain": [
       "[<matplotlib.lines.Line2D at 0x2bd200fa588>]"
      ]
     },
     "execution_count": 4,
     "metadata": {},
     "output_type": "execute_result"
    },
    {
     "data": {
      "image/png": "[encoded data removed]",
      "text/plain": [
       "<Figure size 432x288 with 1 Axes>"
      ]
     },
     "metadata": {
      "needs_background": "light"
     },
     "output_type": "display_data"
    }
   ],
   "source": [
    "m = 500\n",
    "h = 1./(m+1)\n",
    "x = np.linspace(0,1,m+2)\n",
    "eps = 0.01\n",
    "alpha = 1.\n",
    "beta = 3.\n",
    "A = eps*D2(m)-D1(m)\n",
    "\n",
    "\n",
    "def f(x):\n",
    "    return -np.ones_like(x)*(1)\n",
    "\n",
    "\n",
    "F = f(x[1:-1])\n",
    "F[0] = F[0]-eps*alpha/h**2 - alpha/(2*h)\n",
    "F[-1] = F[-1]-eps*beta/h**2 + beta/(2*h)\n",
    "\n",
    "U = np.linalg.solve(A,F)\n",
    "plt.plot(x[1:-1],U)"
   ]
  },
  {
   "cell_type": "code",
   "execution_count": null,
   "metadata": {},
   "outputs": [],
   "source": []
  }
 ],
 "metadata": {
  "kernelspec": {
   "display_name": "Python 3",
   "language": "python",
   "name": "python3"
  },
  "language_info": {
   "codemirror_mode": {
    "name": "ipython",
    "version": 3
   },
   "file_extension": ".py",
   "mimetype": "text/x-python",
   "name": "python",
   "nbconvert_exporter": "python",
   "pygments_lexer": "ipython3",
   "version": "3.7.3"
  },
  "toc": {
   "base_numbering": 1,
   "nav_menu": {},
   "number_sections": true,
   "sideBar": true,
   "skip_h1_title": false,
   "title_cell": "Table of Contents",
   "title_sidebar": "Contents",
   "toc_cell": false,
   "toc_position": {},
   "toc_section_display": true,
   "toc_window_display": false
  }
 },
 "nbformat": 4,
 "nbformat_minor": 4
}
